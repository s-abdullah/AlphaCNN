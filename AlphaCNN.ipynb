{
 "cells": [
  {
   "cell_type": "code",
   "execution_count": 23,
   "metadata": {},
   "outputs": [],
   "source": [
    "import numpy as np\n",
    "\n",
    "import matplotlib.pyplot as plt\n",
    "\n",
    "import tensorflow as tf\n",
    "\n",
    "import imageio as img\n",
    "\n",
    "import math\n",
    "import time\n",
    "\n",
    "from sklearn.preprocessing import LabelEncoder\n",
    "from sklearn.preprocessing import OneHotEncoder\n",
    "\n",
    "%matplotlib inline\n",
    "import os\n",
    "os.environ[\"CUDA_VISIBLE_DEVICES\"]=\"0\" #for training on gpu"
   ]
  },
  {
   "cell_type": "code",
   "execution_count": 24,
   "metadata": {},
   "outputs": [],
   "source": [
    "# setting variables for the directory to the data\n",
    "todata = \"/home/abdullah/Desktop/Abdullah/LUMS/Senior/Sproj/ImgPreProcessing/Channel/\"\n",
    "moredata = \"/home/abdullah/Desktop/Abdullah/LUMS/Senior/Sproj/ImgPreProcessing/AmplifiedDataset\"\n",
    "\n",
    "\n",
    "training_iters = 1001\n",
    "learning_rate = 0.0003 \n",
    "batch_size = 64\n",
    "\n",
    "# data input (img shape: 28*28)\n",
    "n_input = 28\n",
    "\n",
    "# total classes (0-9 digits)\n",
    "n_classes = 26\n",
    "\n",
    "norm = 255.0"
   ]
  },
  {
   "cell_type": "code",
   "execution_count": 25,
   "metadata": {
    "scrolled": true
   },
   "outputs": [
    {
     "name": "stdout",
     "output_type": "stream",
     "text": [
      "\n",
      "Data labales matrix\n",
      "['A' 'A' 'A' ... 'Z' 'Z' 'Z'] <U1 (3844,)\n",
      "\n",
      "Data matrix\n",
      "float32 (3844, 28, 28)\n"
     ]
    }
   ],
   "source": [
    "# saving current directory\n",
    "cur = os.getcwd()\n",
    "\n",
    "# changing directoy to data set\n",
    "os.chdir(todata)\n",
    "# getting all the folder names\n",
    "nmes = os.listdir(\".\")\n",
    "nmes.sort()\n",
    "\n",
    "# reading all the data into labels and data numpy arrays\n",
    "labels = []\n",
    "data = []\n",
    "for letr in nmes:\n",
    "    for file in os.listdir(todata+letr):\n",
    "        labels.append(letr)\n",
    "        f = img.imread(todata + letr + \"/\"+ file)\n",
    "        data.append(f)\n",
    "#         print(f.shape)\n",
    "#         plt.imshow(f)\n",
    "#         plt.show()\n",
    "#         break\n",
    "#     break\n",
    "        # change back directory\n",
    "os.chdir(cur)\n",
    "\n",
    "print(\"\\nData labales matrix\")\n",
    "labels = np.array(labels)\n",
    "print(labels, labels.dtype, labels.shape)\n",
    "\n",
    "# diving by 255 to get clamp values between zero and one\n",
    "print(\"\\nData matrix\")\n",
    "data = np.array(data, np.float32)/norm\n",
    "print(data.dtype, data.shape)\n"
   ]
  },
  {
   "cell_type": "code",
   "execution_count": 26,
   "metadata": {},
   "outputs": [
    {
     "data": {
      "image/png": "[encoded data removed]",
      "text/plain": [
       "<Figure size 432x288 with 1 Axes>"
      ]
     },
     "metadata": {
      "needs_background": "light"
     },
     "output_type": "display_data"
    }
   ],
   "source": [
    "plt.imshow(data[1000])\n",
    "plt.show()"
   ]
  },
  {
   "cell_type": "code",
   "execution_count": 27,
   "metadata": {},
   "outputs": [
    {
     "name": "stdout",
     "output_type": "stream",
     "text": [
      "(3844, 26)\n"
     ]
    },
    {
     "name": "stderr",
     "output_type": "stream",
     "text": [
      "/home/abdullah/.local/lib/python3.6/site-packages/sklearn/preprocessing/_encoders.py:371: FutureWarning: The handling of integer data will change in version 0.22. Currently, the categories are determined based on the range [0, max(values)], while in the future they will be determined based on the unique values.\n",
      "If you want the future behaviour and silence this warning, you can specify \"categories='auto'\".\n",
      "In case you used a LabelEncoder before this OneHotEncoder to convert the categories to integers, then you can now use the OneHotEncoder directly.\n",
      "  warnings.warn(msg, FutureWarning)\n"
     ]
    }
   ],
   "source": [
    "# converting labels into onehot encodings\n",
    "\n",
    "# integer encode\n",
    "label_encoder = LabelEncoder()\n",
    "integer_encoded = label_encoder.fit_transform(labels)\n",
    "# print(integer_encoded)\n",
    "\n",
    "# binary encode\n",
    "onehot_encoder = OneHotEncoder(sparse=False)\n",
    "integer_encoded = integer_encoded.reshape(len(integer_encoded), 1)\n",
    "onehot_encoded = onehot_encoder.fit_transform(integer_encoded)\n",
    "print(onehot_encoded.shape)"
   ]
  },
  {
   "cell_type": "code",
   "execution_count": 28,
   "metadata": {},
   "outputs": [],
   "source": [
    "# function that splits up the data\n",
    "\n",
    "def train_val_split(data, labels, keep):\n",
    "  \n",
    "\n",
    "    data = np.array(data)\n",
    "    labels = np.array(labels)\n",
    "\n",
    "    #split the data\n",
    "    number_of_validation_points = data.shape[0]\n",
    "\n",
    "    split = int(number_of_validation_points*keep)\n",
    "\n",
    "    # getting curent state so shuffle is the same for both arrays\n",
    "    curState = np.random.get_state()\n",
    "    np.random.shuffle(data)\n",
    "    # setting the state\n",
    "    np.random.set_state(curState)\n",
    "    np.random.shuffle(labels)\n",
    "\n",
    "\n",
    "\n",
    "    #images are unflattened\n",
    "    temp_val = data[split:]\n",
    "    val_label = labels[split:]\n",
    "    temp_train = data[:split]\n",
    "    train_label = labels[:split]\n",
    "\n",
    "    val = temp_val\n",
    "    train = temp_train\n",
    "    \n",
    "    train = np.array(train)\n",
    "    val = np.array(val)\n",
    "\n",
    "    print(\"The splits are: \")\n",
    "    print(train.shape)   \n",
    "    print(train_label.shape)\n",
    "    print(val.shape) \n",
    "    print(val_label.shape)\n",
    "\n",
    "    return train, train_label, val, val_label\n",
    "\n"
   ]
  },
  {
   "cell_type": "code",
   "execution_count": 29,
   "metadata": {
    "scrolled": true
   },
   "outputs": [
    {
     "name": "stdout",
     "output_type": "stream",
     "text": [
      "The splits are: \n",
      "(3075, 28, 28)\n",
      "(3075, 26)\n",
      "(769, 28, 28)\n",
      "(769, 26)\n"
     ]
    }
   ],
   "source": [
    "# splitting up the data\n",
    "tr, tr_l, vl, vl_l = train_val_split(data, onehot_encoded, 0.8)\n",
    "\n"
   ]
  },
  {
   "cell_type": "code",
   "execution_count": 30,
   "metadata": {},
   "outputs": [
    {
     "data": {
      "text/plain": [
       "((3075, 28, 28, 1), (769, 28, 28, 1), (3075, 26), (769, 26))"
      ]
     },
     "execution_count": 30,
     "metadata": {},
     "output_type": "execute_result"
    }
   ],
   "source": [
    "# Reshape training and testing image\n",
    "train_X = tr.reshape(-1, n_input, n_input, 1)\n",
    "test_X = vl.reshape(-1,n_input,n_input, 1)\n",
    "\n",
    "\n",
    "\n",
    "train_y = tr_l\n",
    "test_y = vl_l\n",
    "\n",
    "train_X.shape, test_X.shape, train_y.shape, test_y.shape"
   ]
  },
  {
   "cell_type": "code",
   "execution_count": 31,
   "metadata": {},
   "outputs": [],
   "source": [
    "# tensorflow variables will be assigned inside the functions\n",
    "\n",
    "# simple convolution layer\n",
    "def conv_layer(inp, ch_in, ch_out, kernel, name=\"conv\", strides=1, k=2):\n",
    "    # giving the same naming structure for graph in tensorboard\n",
    "    with tf.name_scope(name):\n",
    "        # the first two are kernel dimen then its the input depth and \n",
    "        # then the number of filters you want ie output depth\n",
    "        w = tf.Variable(tf.truncated_normal([kernel, kernel, ch_in, ch_out], stddev=0.3), name=\"W\")\n",
    "        b = tf.Variable(tf.constant(0.01, shape=[ch_out]), name=\"B\")\n",
    "\n",
    "        # applying the kernel\n",
    "        conv = tf.nn.conv2d(inp, w, strides=[1, strides, strides,1], padding=\"SAME\")\n",
    "\n",
    "        # activation\n",
    "        conv = tf.nn.bias_add(conv, b)\n",
    "        act = tf.nn.tanh(conv)\n",
    "        \n",
    "        # summaries\n",
    "        tf.summary.histogram(\"weights\", w)\n",
    "        tf.summary.histogram(\"biases\", b)\n",
    "        tf.summary.histogram(\"activations\", act)\n",
    "        return tf.nn.max_pool(act, ksize=[1, k, k, 1], strides=[1, k, k, 1], padding='SAME')\n",
    "\n",
    "\n",
    "# fully connected layer\n",
    "def fc_layer(inp, ch_in, ch_out, name=\"fullyConnected\"):\n",
    "    # giving the same naming structure for graph in tensorboard\n",
    "    with tf.name_scope(name):\n",
    "        w = tf.Variable(tf.truncated_normal([ch_in, ch_out], stddev=0.3), name=\"W\")\n",
    "        b = tf.Variable(tf.constant(0.01, shape=[ch_out]), name=\"B\")\n",
    "\n",
    "        # linear operation and activation\n",
    "        fc = tf.matmul(inp, w)\n",
    "        fc = tf.nn.bias_add(fc, b)\n",
    "        act = tf.nn.tanh(fc)\n",
    "        act = tf.nn.dropout(act, 0.9)\n",
    "        # summaries\n",
    "        tf.summary.histogram(\"weights\", w)\n",
    "        tf.summary.histogram(\"biases\", b)\n",
    "        tf.summary.histogram(\"activations\", act)\n",
    "        return act\n"
   ]
  },
  {
   "cell_type": "code",
   "execution_count": 32,
   "metadata": {},
   "outputs": [],
   "source": [
    "# the whole compuational graph/network\n",
    "def conv_net(x):  \n",
    "\n",
    "    # pooling is done inside the conv layers\n",
    "    # here we call the convolution layer we had defined above and pass the input image x\n",
    "    # since image is grascale input channel = 1 and output we specified to 32 kernels\n",
    "    conv1 = conv_layer(x, 1, 32, 3, \"conv1\")\n",
    "\n",
    "    # here we call the convolution layer we had defined above.\n",
    "    conv2 = conv_layer(conv1, 32, 64, 3, \"conv2\")\n",
    "\n",
    "\n",
    "    \n",
    "    conv3 = conv_layer(conv2, 64, 128, 4, \"conv3\")\n",
    "\n",
    "    \n",
    "\n",
    "    # flatten the ouput of pool for fully connected\n",
    "    # Reshape output to fit fully connected layer input\n",
    "    flat = tf.reshape(conv3, [-1, math.ceil(n_classes/8)*math.ceil(n_classes/8)*128])\n",
    "\n",
    "    # Fully connected layer\n",
    "    fc1 = fc_layer(flat, math.ceil(n_classes/8)*math.ceil(n_classes/8)*128, 1024, \"fc1\")\n",
    "\n",
    "    fc2 = fc_layer(fc1, 1024, 512, \"fc2\")\n",
    "    # Output, class prediction\n",
    "    # finally we multiply the fully connected layer with the weights and add a bias term. \n",
    "    out = fc_layer(fc2, 512, n_classes,\"out\")\n",
    "\n",
    "    return out"
   ]
  },
  {
   "cell_type": "code",
   "execution_count": 33,
   "metadata": {
    "scrolled": true
   },
   "outputs": [
    {
     "name": "stdout",
     "output_type": "stream",
     "text": [
      "Iter 10, Loss= 3.159237, Training Accuracy= 0.06250\n",
      "Iter 20, Loss= 2.948126, Training Accuracy= 0.09375\n",
      "Testing Accuracy: 0.09753\n",
      "Iter 30, Loss= 2.721066, Training Accuracy= 0.17188\n",
      "Iter 40, Loss= 2.478164, Training Accuracy= 0.25000\n",
      "Iter 50, Loss= 2.551666, Training Accuracy= 0.23438\n",
      "Testing Accuracy: 0.25228\n",
      "Iter 60, Loss= 2.258799, Training Accuracy= 0.50000\n",
      "Iter 70, Loss= 2.234097, Training Accuracy= 0.48438\n",
      "Testing Accuracy: 0.32770\n",
      "Iter 80, Loss= 2.227399, Training Accuracy= 0.35938\n",
      "Iter 90, Loss= 2.103981, Training Accuracy= 0.48438\n",
      "Iter 100, Loss= 2.166098, Training Accuracy= 0.43750\n",
      "Testing Accuracy: 0.39532\n",
      "Iter 110, Loss= 1.958254, Training Accuracy= 0.60938\n",
      "Iter 120, Loss= 2.035249, Training Accuracy= 0.54688\n",
      "Testing Accuracy: 0.48505\n",
      "Iter 130, Loss= 1.854982, Training Accuracy= 0.60938\n",
      "Iter 140, Loss= 1.838276, Training Accuracy= 0.68750\n",
      "Iter 150, Loss= 1.871131, Training Accuracy= 0.67188\n",
      "Testing Accuracy: 0.50845\n",
      "Iter 160, Loss= 1.746785, Training Accuracy= 0.78125\n",
      "Iter 170, Loss= 1.765823, Training Accuracy= 0.67188\n",
      "Testing Accuracy: 0.55527\n",
      "Iter 180, Loss= 1.787583, Training Accuracy= 0.67188\n",
      "Iter 190, Loss= 1.742926, Training Accuracy= 0.82812\n",
      "Iter 200, Loss= 1.722685, Training Accuracy= 0.78125\n",
      "Testing Accuracy: 0.60078\n",
      "Iter 210, Loss= 1.735260, Training Accuracy= 0.79688\n",
      "Iter 220, Loss= 1.707397, Training Accuracy= 0.78125\n",
      "Testing Accuracy: 0.59038\n",
      "Iter 230, Loss= 1.679448, Training Accuracy= 0.87500\n",
      "Iter 240, Loss= 1.679584, Training Accuracy= 0.78125\n",
      "Iter 250, Loss= 1.694686, Training Accuracy= 0.84375\n",
      "Testing Accuracy: 0.64629\n",
      "Iter 260, Loss= 1.703396, Training Accuracy= 0.84375\n",
      "Iter 270, Loss= 1.673654, Training Accuracy= 0.84375\n",
      "Testing Accuracy: 0.64109\n",
      "Iter 280, Loss= 1.686050, Training Accuracy= 0.82812\n",
      "Iter 290, Loss= 1.703529, Training Accuracy= 0.78125\n",
      "Iter 300, Loss= 1.718738, Training Accuracy= 0.82812\n",
      "Testing Accuracy: 0.69051\n",
      "Iter 310, Loss= 1.607033, Training Accuracy= 0.89062\n",
      "Iter 320, Loss= 1.647430, Training Accuracy= 0.84375\n",
      "Testing Accuracy: 0.68531\n",
      "Iter 330, Loss= 1.558896, Training Accuracy= 0.93750\n",
      "Iter 340, Loss= 1.610757, Training Accuracy= 0.87500\n",
      "Iter 350, Loss= 1.575848, Training Accuracy= 0.92188\n",
      "Testing Accuracy: 0.71131\n",
      "Iter 360, Loss= 1.548420, Training Accuracy= 0.92188\n",
      "Iter 370, Loss= 1.581135, Training Accuracy= 0.93750\n",
      "Testing Accuracy: 0.70351\n",
      "Iter 380, Loss= 1.647019, Training Accuracy= 0.85938\n",
      "Iter 390, Loss= 1.591853, Training Accuracy= 0.90625\n",
      "Iter 400, Loss= 1.570098, Training Accuracy= 0.90625\n",
      "Testing Accuracy: 0.73862\n",
      "Iter 410, Loss= 1.555168, Training Accuracy= 0.93750\n",
      "Iter 420, Loss= 1.613891, Training Accuracy= 0.95312\n",
      "Testing Accuracy: 0.73472\n",
      "Iter 430, Loss= 1.619705, Training Accuracy= 0.85938\n",
      "Iter 440, Loss= 1.548033, Training Accuracy= 0.93750\n",
      "Iter 450, Loss= 1.579525, Training Accuracy= 0.89062\n",
      "Testing Accuracy: 0.73602\n",
      "Iter 460, Loss= 1.654349, Training Accuracy= 0.85938\n",
      "Iter 470, Loss= 1.588804, Training Accuracy= 0.92188\n",
      "Testing Accuracy: 0.75683\n",
      "Iter 480, Loss= 1.592531, Training Accuracy= 0.90625\n",
      "Iter 490, Loss= 1.562958, Training Accuracy= 0.90625\n",
      "Iter 500, Loss= 1.547649, Training Accuracy= 0.92188\n",
      "Testing Accuracy: 0.77633\n",
      "Iter 510, Loss= 1.619755, Training Accuracy= 0.90625\n",
      "Iter 520, Loss= 1.607679, Training Accuracy= 0.89062\n",
      "Testing Accuracy: 0.73602\n",
      "Iter 530, Loss= 1.636283, Training Accuracy= 0.85938\n",
      "Iter 540, Loss= 1.567268, Training Accuracy= 0.89062\n",
      "Iter 550, Loss= 1.591087, Training Accuracy= 0.90625\n",
      "Testing Accuracy: 0.78934\n",
      "Iter 560, Loss= 1.598687, Training Accuracy= 0.92188\n",
      "Iter 570, Loss= 1.598012, Training Accuracy= 0.92188\n",
      "Testing Accuracy: 0.78023\n",
      "Iter 580, Loss= 1.592393, Training Accuracy= 0.89062\n",
      "Iter 590, Loss= 1.553123, Training Accuracy= 0.92188\n",
      "Iter 600, Loss= 1.562303, Training Accuracy= 0.93750\n",
      "Testing Accuracy: 0.76723\n",
      "Iter 610, Loss= 1.582435, Training Accuracy= 0.89062\n",
      "Iter 620, Loss= 1.545200, Training Accuracy= 0.95312\n",
      "Testing Accuracy: 0.76463\n",
      "Iter 630, Loss= 1.529402, Training Accuracy= 0.95312\n",
      "Iter 640, Loss= 1.549284, Training Accuracy= 0.95312\n",
      "Iter 650, Loss= 1.523348, Training Accuracy= 0.95312\n",
      "Testing Accuracy: 0.77373\n",
      "Iter 660, Loss= 1.599244, Training Accuracy= 0.90625\n",
      "Iter 670, Loss= 1.608279, Training Accuracy= 0.89062\n",
      "Testing Accuracy: 0.78414\n",
      "Iter 680, Loss= 1.547508, Training Accuracy= 0.92188\n",
      "Iter 690, Loss= 1.621379, Training Accuracy= 0.89062\n",
      "Iter 700, Loss= 1.585085, Training Accuracy= 0.90625\n",
      "Testing Accuracy: 0.78934\n",
      "Iter 710, Loss= 1.599269, Training Accuracy= 0.95312\n",
      "Iter 720, Loss= 1.602461, Training Accuracy= 0.92188\n",
      "Testing Accuracy: 0.78023\n",
      "Iter 730, Loss= 1.512470, Training Accuracy= 0.93750\n",
      "Iter 740, Loss= 1.527649, Training Accuracy= 0.95312\n",
      "Iter 750, Loss= 1.513885, Training Accuracy= 0.95312\n",
      "Testing Accuracy: 0.78934\n",
      "Iter 760, Loss= 1.498006, Training Accuracy= 0.96875\n",
      "Iter 770, Loss= 1.552148, Training Accuracy= 0.95312\n",
      "Testing Accuracy: 0.81925\n",
      "Iter 780, Loss= 1.606217, Training Accuracy= 0.90625\n",
      "Iter 790, Loss= 1.607748, Training Accuracy= 0.85938\n",
      "Iter 800, Loss= 1.480444, Training Accuracy= 0.98438\n",
      "Testing Accuracy: 0.80754\n",
      "Iter 810, Loss= 1.547601, Training Accuracy= 0.92188\n",
      "Iter 820, Loss= 1.568307, Training Accuracy= 0.93750\n",
      "Testing Accuracy: 0.80884\n",
      "Iter 830, Loss= 1.549642, Training Accuracy= 0.96875\n",
      "Iter 840, Loss= 1.512878, Training Accuracy= 0.96875\n",
      "Iter 850, Loss= 1.605123, Training Accuracy= 0.85938\n",
      "Testing Accuracy: 0.79844\n",
      "Iter 860, Loss= 1.586416, Training Accuracy= 0.93750\n",
      "Iter 870, Loss= 1.581908, Training Accuracy= 0.93750\n",
      "Testing Accuracy: 0.79324\n",
      "Iter 880, Loss= 1.531305, Training Accuracy= 0.96875\n",
      "Iter 890, Loss= 1.575513, Training Accuracy= 0.90625\n",
      "Iter 900, Loss= 1.555753, Training Accuracy= 0.92188\n",
      "Testing Accuracy: 0.79974\n",
      "Iter 910, Loss= 1.509936, Training Accuracy= 0.93750\n",
      "Iter 920, Loss= 1.567631, Training Accuracy= 0.93750\n",
      "Testing Accuracy: 0.82965\n",
      "Iter 930, Loss= 1.534616, Training Accuracy= 0.93750\n",
      "Iter 940, Loss= 1.554035, Training Accuracy= 0.93750\n",
      "Iter 950, Loss= 1.531971, Training Accuracy= 0.93750\n",
      "Testing Accuracy: 0.81664\n",
      "Iter 960, Loss= 1.539321, Training Accuracy= 0.93750\n",
      "Iter 970, Loss= 1.562322, Training Accuracy= 0.92188\n",
      "Testing Accuracy: 0.81664\n",
      "Iter 980, Loss= 1.532246, Training Accuracy= 0.95312\n",
      "Iter 990, Loss= 1.528731, Training Accuracy= 0.95312\n",
      "Iter 1000, Loss= 1.487170, Training Accuracy= 0.98438\n",
      "Testing Accuracy: 0.81144\n"
     ]
    }
   ],
   "source": [
    "tf.reset_default_graph()\n",
    "sess = tf.Session()# telling the session to initialize the variables\n",
    "\n",
    "\n",
    "# input dimen and output dimen\n",
    "x = tf.placeholder(\"float\", [None, n_input,n_input, 1], name=\"x\")\n",
    "tf.summary.image('input', x, 10)\n",
    "\n",
    "y = tf.placeholder(\"float\", [None, n_classes], name = \"labels\")\n",
    "\n",
    "# storing the graph in the variable pred\n",
    "pred = conv_net(x)\n",
    "\n",
    "# getting output for prediction\n",
    "yOut = tf.identity(pred, name=\"myOutput\")\n",
    "\n",
    "# cost fucntion for the graph\n",
    "with tf.name_scope(\"entropy\"):\n",
    "    cost = tf.reduce_mean(tf.nn.softmax_cross_entropy_with_logits(logits=pred, labels=y))\n",
    "    tf.summary.scalar(\"entropy\", cost)\n",
    "\n",
    "# optiizr for the network\n",
    "with tf.name_scope(\"train\"):\n",
    "    optimizer = tf.train.AdamOptimizer(learning_rate=learning_rate).minimize(cost)\n",
    "\n",
    "with tf.name_scope(\"accuracy\"):\n",
    "    #Here you check whether the index of the maximum value of the predicted image is equal to the actual labelled \n",
    "    #image. and both will be a column vector.\n",
    "    correct_prediction = tf.equal(tf.argmax(pred, 1), tf.argmax(y, 1))\n",
    "\n",
    "    #calculate accuracy across all the given images and average them out. \n",
    "    accuracy = tf.reduce_mean(tf.cast(correct_prediction, tf.float32))\n",
    "\n",
    "    tf.summary.scalar(\"accuracy\", accuracy)\n",
    "    \n",
    "# Initializing the variables\n",
    "init = tf.global_variables_initializer()\n",
    "sess.run(init) \n",
    "\n",
    "# storing the values in lists\n",
    "train_loss = []\n",
    "test_loss = []\n",
    "train_accuracy = []\n",
    "test_accuracy = []\n",
    "\n",
    "summ = tf.summary.merge_all()\n",
    "summary_writer = tf.summary.FileWriter('./Output')\n",
    "summary_writer.add_graph(sess.graph)\n",
    "\n",
    "for i in range(1,training_iters):\n",
    "    for batch in range(len(train_X)//batch_size):\n",
    "        batch_x = train_X[batch*batch_size:min((batch+1)*batch_size,len(train_X))]\n",
    "        batch_y = train_y[batch*batch_size:min((batch+1)*batch_size,len(train_y))]    \n",
    "        # Run optimization op (backprop).\n",
    "        # Calculate batch loss and accuracy\n",
    "        opt = sess.run(optimizer, feed_dict={x: batch_x, y: batch_y})\n",
    "        loss, acc = sess.run([cost, accuracy], feed_dict={x: batch_x, y: batch_y})\n",
    "\n",
    "        if (i % 5 == 0)&(batch == 0):\n",
    "            s = sess.run(summ, feed_dict={x: batch_x, y: batch_y})\n",
    "            summary_writer.add_summary(s, i)\n",
    "    if i % 10 == 0:\n",
    "        print(\"Iter \" + str(i) + \", Loss= \" + \\\n",
    "                      \"{:.6f}\".format(loss) + \", Training Accuracy= \" + \\\n",
    "                      \"{:.5f}\".format(acc))\n",
    "#         print(\"Optimization Finished!\")\n",
    "\n",
    "    # Calculate accuracy for all test images\n",
    "    train_loss.append(loss)\n",
    "    train_accuracy.append(acc)\n",
    "    test_acc,valid_loss = sess.run([accuracy,cost], feed_dict={x: test_X,y : test_y})\n",
    "    test_loss.append(valid_loss)\n",
    "    test_accuracy.append(test_acc)\n",
    "    if i % 25 == 0:\n",
    "\n",
    "        print(\"Testing Accuracy:\",\"{:.5f}\".format(test_acc))\n",
    "summary_writer.close()"
   ]
  },
  {
   "cell_type": "code",
   "execution_count": 34,
   "metadata": {},
   "outputs": [
    {
     "data": {
      "image/png": "[encoded data removed]",
      "text/plain": [
       "<Figure size 432x288 with 1 Axes>"
      ]
     },
     "metadata": {
      "needs_background": "light"
     },
     "output_type": "display_data"
    },
    {
     "data": {
      "text/plain": [
       "<Figure size 432x288 with 0 Axes>"
      ]
     },
     "metadata": {},
     "output_type": "display_data"
    }
   ],
   "source": [
    "plt.plot(range(len(train_loss)), train_accuracy, 'b', label='Training Accuracy')\n",
    "plt.plot(range(len(train_loss)), test_accuracy, 'r', label='Test Accuracy')\n",
    "plt.title('Training and Test Accuracy')\n",
    "plt.xlabel('Epochs ',fontsize=16)\n",
    "plt.ylabel('Loss',fontsize=16)\n",
    "plt.legend()\n",
    "plt.figure()\n",
    "plt.show()"
   ]
  },
  {
   "cell_type": "code",
   "execution_count": 35,
   "metadata": {
    "scrolled": true
   },
   "outputs": [
    {
     "data": {
      "image/png": "[encoded data removed]",
      "text/plain": [
       "<Figure size 432x288 with 1 Axes>"
      ]
     },
     "metadata": {
      "needs_background": "light"
     },
     "output_type": "display_data"
    },
    {
     "data": {
      "text/plain": [
       "<Figure size 432x288 with 0 Axes>"
      ]
     },
     "metadata": {},
     "output_type": "display_data"
    }
   ],
   "source": [
    "plt.plot(range(len(train_loss)), train_loss, 'b', label='Training loss')\n",
    "plt.plot(range(len(train_loss)), test_loss, 'r', label='Test loss')\n",
    "plt.title('Training and Test loss')\n",
    "plt.xlabel('Epochs ',fontsize=16)\n",
    "plt.ylabel('Loss',fontsize=16)\n",
    "plt.legend()\n",
    "plt.figure()\n",
    "plt.show()"
   ]
  },
  {
   "cell_type": "code",
   "execution_count": 36,
   "metadata": {},
   "outputs": [
    {
     "name": "stdout",
     "output_type": "stream",
     "text": [
      "Model saved in path: ./Models/model049.ckpt\n"
     ]
    }
   ],
   "source": [
    "# saving the graph for warm training \n",
    "saver = tf.train.Saver()\n",
    "\n",
    "save_path = saver.save(sess, \"./Models/model\"+str(time.localtime().tm_hour)+str(time.localtime().tm_min)+\".ckpt\")\n",
    "print(\"Model saved in path: %s\" % save_path)"
   ]
  },
  {
   "cell_type": "code",
   "execution_count": 17,
   "metadata": {},
   "outputs": [
    {
     "name": "stdout",
     "output_type": "stream",
     "text": [
      "INFO:tensorflow:Restoring parameters from ./Models/model2243.ckpt\n",
      "INFO:tensorflow:Assets added to graph.\n",
      "INFO:tensorflow:No assets to write.\n",
      "INFO:tensorflow:SavedModel written to: ./CompleteModelSave/saved_model.pb\n"
     ]
    }
   ],
   "source": [
    "# restoring graph\n",
    "\n",
    "# saver = tf.train.Saver()\n",
    "\n",
    "# saver.restore(sess, \"./Models/model2243.ckpt\")\n",
    "# export_dir = \"./CompleteModelSave/\"\n",
    "# tf.saved_model.simple_save(sess,\n",
    "#             export_dir,\n",
    "#             inputs={\"x\": x},\n",
    "#             outputs={\"out\": y})"
   ]
  },
  {
   "cell_type": "code",
   "execution_count": 37,
   "metadata": {},
   "outputs": [
    {
     "name": "stdout",
     "output_type": "stream",
     "text": [
      "INFO:tensorflow:Assets added to graph.\n",
      "INFO:tensorflow:No assets to write.\n",
      "INFO:tensorflow:SavedModel written to: ./CompleteModelSave/saved_model.pb\n"
     ]
    }
   ],
   "source": [
    "export_dir = \"./CompleteModelSave/\"\n",
    "tf.saved_model.simple_save(sess,\n",
    "            export_dir,\n",
    "            inputs={\"x\": x},\n",
    "            outputs={\"myOutput\": y})"
   ]
  },
  {
   "cell_type": "code",
   "execution_count": 55,
   "metadata": {},
   "outputs": [
    {
     "name": "stdout",
     "output_type": "stream",
     "text": [
      "[-1.1111108 -1.1111112 -1.1111112 -1.1111112 -1.1111112 -0.\n",
      " -1.1111112 -1.1111112 -1.1111112 -0.        -1.1111112 -1.1111112\n",
      " -1.1111112 -1.1111112 -1.1111112 -1.1111112 -1.1111112 -0.\n",
      " -1.1111112 -1.1111112 -1.1111112 -1.1111112 -0.        -0.\n",
      "  1.1111112 -1.1109841]\n"
     ]
    },
    {
     "data": {
      "image/png": "[encoded data removed]",
      "text/plain": [
       "<Figure size 432x288 with 1 Axes>"
      ]
     },
     "metadata": {
      "needs_background": "light"
     },
     "output_type": "display_data"
    }
   ],
   "source": [
    "yyy = sess.run(yOut,feed_dict={x: test_X})\n",
    "print((yyy[0]))\n",
    "plt.imshow(test_X[0].reshape(28,28))\n",
    "plt.show()"
   ]
  },
  {
   "cell_type": "code",
   "execution_count": 17,
   "metadata": {},
   "outputs": [],
   "source": [
    "sess.close()"
   ]
  },
  {
   "cell_type": "code",
   "execution_count": 58,
   "metadata": {},
   "outputs": [
    {
     "name": "stdout",
     "output_type": "stream",
     "text": [
      "INFO:tensorflow:No assets to save.\n",
      "INFO:tensorflow:No assets to write.\n",
      "INFO:tensorflow:SavedModel written to: ./ModelSaver/saved_model.pb\n"
     ]
    },
    {
     "data": {
      "text/plain": [
       "b'./ModelSaver/saved_model.pb'"
      ]
     },
     "execution_count": 58,
     "metadata": {},
     "output_type": "execute_result"
    }
   ],
   "source": [
    "export_dir = './ModelSaver/'\n",
    "builder = tf.saved_model.builder.SavedModelBuilder(export_dir)\n",
    "builder.add_meta_graph_and_variables(sess, [\"tag\"], signature_def_map= {\n",
    "        \"model\": tf.saved_model.signature_def_utils.predict_signature_def(\n",
    "            inputs= {\"x\": x},\n",
    "            outputs= {\"myOutput\": yOut})\n",
    "        })\n",
    "builder.save()"
   ]
  },
  {
   "cell_type": "code",
   "execution_count": null,
   "metadata": {},
   "outputs": [],
   "source": []
  }
 ],
 "metadata": {
  "kernelspec": {
   "display_name": "Python 3",
   "language": "python",
   "name": "python3"
  },
  "language_info": {
   "codemirror_mode": {
    "name": "ipython",
    "version": 3
   },
   "file_extension": ".py",
   "mimetype": "text/x-python",
   "name": "python",
   "nbconvert_exporter": "python",
   "pygments_lexer": "ipython3",
   "version": "3.6.7"
  }
 },
 "nbformat": 4,
 "nbformat_minor": 2
}
