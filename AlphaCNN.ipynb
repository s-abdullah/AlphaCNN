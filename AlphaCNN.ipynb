{
 "cells": [
  {
   "cell_type": "code",
   "execution_count": 1,
   "metadata": {},
   "outputs": [],
   "source": [
    "import numpy as np\n",
    "\n",
    "import matplotlib.pyplot as plt\n",
    "\n",
    "import tensorflow as tf\n",
    "\n",
    "import imageio as img\n",
    "\n",
    "import math\n",
    "import time\n",
    "\n",
    "from sklearn.preprocessing import LabelEncoder\n",
    "from sklearn.preprocessing import OneHotEncoder\n",
    "\n",
    "%matplotlib inline\n",
    "import os\n",
    "os.environ[\"CUDA_VISIBLE_DEVICES\"]=\"0\" #for training on gpu"
   ]
  },
  {
   "cell_type": "code",
   "execution_count": 2,
   "metadata": {},
   "outputs": [],
   "source": [
    "# setting variables for the directory to the data\n",
    "todata = \"/home/abdullah/Desktop/Abdullah/LUMS/Senior/Sproj/ImgPreProcessing/Channel/\"\n",
    "moredata = \"/home/abdullah/Desktop/Abdullah/LUMS/Senior/Sproj/ImgPreProcessing/AmplifiedDataset\"\n",
    "\n",
    "\n",
    "training_iters = 1201\n",
    "learning_rate = 0.0003 \n",
    "batch_size = 64\n",
    "\n",
    "# data input (img shape: 28*28)\n",
    "n_input = 28\n",
    "\n",
    "# total classes (0-9 digits)\n",
    "n_classes = 26\n",
    "\n",
    "norm = 255.0"
   ]
  },
  {
   "cell_type": "code",
   "execution_count": 3,
   "metadata": {
    "scrolled": true
   },
   "outputs": [
    {
     "name": "stdout",
     "output_type": "stream",
     "text": [
      "\n",
      "Data labales matrix\n",
      "['A' 'A' 'A' ... 'Z' 'Z' 'Z'] <U1 (3844,)\n",
      "\n",
      "Data matrix\n",
      "float32 (3844, 28, 28)\n"
     ]
    }
   ],
   "source": [
    "# saving current directory\n",
    "cur = os.getcwd()\n",
    "\n",
    "# changing directoy to data set\n",
    "os.chdir(todata)\n",
    "# getting all the folder names\n",
    "nmes = os.listdir(\".\")\n",
    "nmes.sort()\n",
    "\n",
    "# reading all the data into labels and data numpy arrays\n",
    "labels = []\n",
    "data = []\n",
    "for letr in nmes:\n",
    "    for file in os.listdir(todata+letr):\n",
    "        labels.append(letr)\n",
    "        f = img.imread(todata + letr + \"/\"+ file)\n",
    "        data.append(f)\n",
    "#         print(f.shape)\n",
    "#         plt.imshow(f)\n",
    "#         plt.show()\n",
    "#         break\n",
    "#     break\n",
    "        # change back directory\n",
    "os.chdir(cur)\n",
    "\n",
    "print(\"\\nData labales matrix\")\n",
    "labels = np.array(labels)\n",
    "print(labels, labels.dtype, labels.shape)\n",
    "\n",
    "# diving by 255 to get clamp values between zero and one\n",
    "print(\"\\nData matrix\")\n",
    "data = np.array(data, np.float32)/norm\n",
    "print(data.dtype, data.shape)\n"
   ]
  },
  {
   "cell_type": "code",
   "execution_count": 4,
   "metadata": {},
   "outputs": [
    {
     "data": {
      "image/png": "[encoded data removed]",
      "text/plain": [
       "<Figure size 432x288 with 1 Axes>"
      ]
     },
     "metadata": {
      "needs_background": "light"
     },
     "output_type": "display_data"
    }
   ],
   "source": [
    "plt.imshow(data[1000])\n",
    "plt.show()"
   ]
  },
  {
   "cell_type": "code",
   "execution_count": 5,
   "metadata": {},
   "outputs": [
    {
     "name": "stdout",
     "output_type": "stream",
     "text": [
      "(3844, 26)\n"
     ]
    },
    {
     "name": "stderr",
     "output_type": "stream",
     "text": [
      "/home/abdullah/.local/lib/python3.6/site-packages/sklearn/preprocessing/_encoders.py:371: FutureWarning: The handling of integer data will change in version 0.22. Currently, the categories are determined based on the range [0, max(values)], while in the future they will be determined based on the unique values.\n",
      "If you want the future behaviour and silence this warning, you can specify \"categories='auto'\".\n",
      "In case you used a LabelEncoder before this OneHotEncoder to convert the categories to integers, then you can now use the OneHotEncoder directly.\n",
      "  warnings.warn(msg, FutureWarning)\n"
     ]
    }
   ],
   "source": [
    "# converting labels into onehot encodings\n",
    "\n",
    "# integer encode\n",
    "label_encoder = LabelEncoder()\n",
    "integer_encoded = label_encoder.fit_transform(labels)\n",
    "# print(integer_encoded)\n",
    "\n",
    "# binary encode\n",
    "onehot_encoder = OneHotEncoder(sparse=False)\n",
    "integer_encoded = integer_encoded.reshape(len(integer_encoded), 1)\n",
    "onehot_encoded = onehot_encoder.fit_transform(integer_encoded)\n",
    "print(onehot_encoded.shape)"
   ]
  },
  {
   "cell_type": "code",
   "execution_count": 6,
   "metadata": {},
   "outputs": [],
   "source": [
    "# function that splits up the data\n",
    "\n",
    "def train_val_split(data, labels, keep):\n",
    "  \n",
    "\n",
    "    data = np.array(data)\n",
    "    labels = np.array(labels)\n",
    "\n",
    "    #split the data\n",
    "    number_of_validation_points = data.shape[0]\n",
    "\n",
    "    split = int(number_of_validation_points*keep)\n",
    "\n",
    "    # getting curent state so shuffle is the same for both arrays\n",
    "    curState = np.random.get_state()\n",
    "    np.random.shuffle(data)\n",
    "    # setting the state\n",
    "    np.random.set_state(curState)\n",
    "    np.random.shuffle(labels)\n",
    "\n",
    "\n",
    "\n",
    "    #images are unflattened\n",
    "    temp_val = data[split:]\n",
    "    val_label = labels[split:]\n",
    "    temp_train = data[:split]\n",
    "    train_label = labels[:split]\n",
    "\n",
    "    val = temp_val\n",
    "    train = temp_train\n",
    "    \n",
    "    train = np.array(train)\n",
    "    val = np.array(val)\n",
    "\n",
    "    print(\"The splits are: \")\n",
    "    print(train.shape)   \n",
    "    print(train_label.shape)\n",
    "    print(val.shape) \n",
    "    print(val_label.shape)\n",
    "\n",
    "    return train, train_label, val, val_label\n",
    "\n"
   ]
  },
  {
   "cell_type": "code",
   "execution_count": 7,
   "metadata": {
    "scrolled": true
   },
   "outputs": [
    {
     "name": "stdout",
     "output_type": "stream",
     "text": [
      "The splits are: \n",
      "(3075, 28, 28)\n",
      "(3075, 26)\n",
      "(769, 28, 28)\n",
      "(769, 26)\n"
     ]
    }
   ],
   "source": [
    "# splitting up the data\n",
    "tr, tr_l, vl, vl_l = train_val_split(data, onehot_encoded, 0.8)\n",
    "\n"
   ]
  },
  {
   "cell_type": "code",
   "execution_count": 8,
   "metadata": {},
   "outputs": [
    {
     "data": {
      "text/plain": [
       "((3075, 28, 28, 1), (769, 28, 28, 1), (3075, 26), (769, 26))"
      ]
     },
     "execution_count": 8,
     "metadata": {},
     "output_type": "execute_result"
    }
   ],
   "source": [
    "# Reshape training and testing image\n",
    "train_X = tr.reshape(-1, n_input, n_input, 1)\n",
    "test_X = vl.reshape(-1,n_input,n_input, 1)\n",
    "\n",
    "\n",
    "\n",
    "train_y = tr_l\n",
    "test_y = vl_l\n",
    "\n",
    "train_X.shape, test_X.shape, train_y.shape, test_y.shape"
   ]
  },
  {
   "cell_type": "code",
   "execution_count": 9,
   "metadata": {},
   "outputs": [],
   "source": [
    "# tensorflow variables will be assigned inside the functions\n",
    "\n",
    "# simple convolution layer\n",
    "def conv_layer(inp, ch_in, ch_out, kernel, name=\"conv\", strides=1, k=2):\n",
    "    # giving the same naming structure for graph in tensorboard\n",
    "    with tf.name_scope(name):\n",
    "        # the first two are kernel dimen then its the input depth and \n",
    "        # then the number of filters you want ie output depth\n",
    "        w = tf.Variable(tf.truncated_normal([kernel, kernel, ch_in, ch_out], stddev=0.3), name=\"W\")\n",
    "        b = tf.Variable(tf.constant(0.01, shape=[ch_out]), name=\"B\")\n",
    "\n",
    "        # applying the kernel\n",
    "        conv = tf.nn.conv2d(inp, w, strides=[1, strides, strides,1], padding=\"SAME\")\n",
    "\n",
    "        # activation\n",
    "        conv = tf.nn.bias_add(conv, b)\n",
    "        act = tf.nn.tanh(conv)\n",
    "        \n",
    "        # summaries\n",
    "        tf.summary.histogram(\"weights\", w)\n",
    "        tf.summary.histogram(\"biases\", b)\n",
    "        tf.summary.histogram(\"activations\", act)\n",
    "        return tf.nn.max_pool(act, ksize=[1, k, k, 1], strides=[1, k, k, 1], padding='SAME')\n",
    "\n",
    "\n",
    "# fully connected layer\n",
    "def fc_layer(inp, ch_in, ch_out, name=\"fullyConnected\"):\n",
    "    # giving the same naming structure for graph in tensorboard\n",
    "    with tf.name_scope(name):\n",
    "        w = tf.Variable(tf.truncated_normal([ch_in, ch_out], stddev=0.3), name=\"W\")\n",
    "        b = tf.Variable(tf.constant(0.01, shape=[ch_out]), name=\"B\")\n",
    "\n",
    "        # linear operation and activation\n",
    "        fc = tf.matmul(inp, w)\n",
    "        fc = tf.nn.bias_add(fc, b)\n",
    "        act = tf.nn.tanh(fc)\n",
    "        act = tf.nn.dropout(act, 0.9)\n",
    "        # summaries\n",
    "        tf.summary.histogram(\"weights\", w)\n",
    "        tf.summary.histogram(\"biases\", b)\n",
    "        tf.summary.histogram(\"activations\", act)\n",
    "        return act\n",
    "\n",
    "def outter(inp, ch_in, ch_out, name=\"outer\"):\n",
    "    # giving the same naming structure for graph in tensorboard\n",
    "    with tf.name_scope(name):\n",
    "        w = tf.Variable(tf.truncated_normal([ch_in, ch_out], stddev=0.3), name=\"W\")\n",
    "        b = tf.Variable(tf.constant(0.01, shape=[ch_out]), name=\"B\")\n",
    "\n",
    "        # linear operation and activation\n",
    "        act = tf.matmul(inp, w)\n",
    "        act = tf.nn.bias_add(act, b)\n",
    "        # summaries\n",
    "        tf.summary.histogram(\"weights\", w)\n",
    "        tf.summary.histogram(\"biases\", b)\n",
    "        tf.summary.histogram(\"activations\", act)\n",
    "        return act"
   ]
  },
  {
   "cell_type": "code",
   "execution_count": 10,
   "metadata": {},
   "outputs": [],
   "source": [
    "# the whole compuational graph/network\n",
    "def conv_net(x):  \n",
    "\n",
    "    # pooling is done inside the conv layers\n",
    "    # here we call the convolution layer we had defined above and pass the input image x\n",
    "    # since image is grascale input channel = 1 and output we specified to 32 kernels\n",
    "    conv1 = conv_layer(x, 1, 32, 3, \"conv1\")\n",
    "\n",
    "    # here we call the convolution layer we had defined above.\n",
    "    conv2 = conv_layer(conv1, 32, 64, 3, \"conv2\")\n",
    "\n",
    "\n",
    "    \n",
    "    conv3 = conv_layer(conv2, 64, 128, 4, \"conv3\")\n",
    "\n",
    "    \n",
    "\n",
    "    # flatten the ouput of pool for fully connected\n",
    "    # Reshape output to fit fully connected layer input\n",
    "    flat = tf.reshape(conv3, [-1, math.ceil(n_classes/8)*math.ceil(n_classes/8)*128])\n",
    "\n",
    "    # Fully connected layer\n",
    "    fc1 = fc_layer(flat, math.ceil(n_classes/8)*math.ceil(n_classes/8)*128, 1024, \"fc1\")\n",
    "\n",
    "    fc2 = fc_layer(fc1, 1024, 512, \"fc2\")\n",
    "    # Output, class prediction\n",
    "    # finally we multiply the fully connected layer with the weights and add a bias term. \n",
    "    out = outter(fc2, 512, n_classes,\"out\")\n",
    "\n",
    "    return out"
   ]
  },
  {
   "cell_type": "code",
   "execution_count": 11,
   "metadata": {
    "scrolled": false
   },
   "outputs": [
    {
     "name": "stdout",
     "output_type": "stream",
     "text": [
      "WARNING:tensorflow:From /home/abdullah/.local/lib/python3.6/site-packages/tensorflow/python/framework/op_def_library.py:263: colocate_with (from tensorflow.python.framework.ops) is deprecated and will be removed in a future version.\n",
      "Instructions for updating:\n",
      "Colocations handled automatically by placer.\n",
      "WARNING:tensorflow:From <ipython-input-9-1a75eb0cf3d5>:37: calling dropout (from tensorflow.python.ops.nn_ops) with keep_prob is deprecated and will be removed in a future version.\n",
      "Instructions for updating:\n",
      "Please use `rate` instead of `keep_prob`. Rate should be set to `rate = 1 - keep_prob`.\n",
      "WARNING:tensorflow:From <ipython-input-11-d3b872204edc>:19: softmax_cross_entropy_with_logits (from tensorflow.python.ops.nn_ops) is deprecated and will be removed in a future version.\n",
      "Instructions for updating:\n",
      "\n",
      "Future major versions of TensorFlow will allow gradients to flow\n",
      "into the labels input on backprop by default.\n",
      "\n",
      "See `tf.nn.softmax_cross_entropy_with_logits_v2`.\n",
      "\n",
      "Iter 10, Loss= 3.860723, Training Accuracy= 0.15625\n",
      "Iter 20, Loss= 2.339847, Training Accuracy= 0.46875\n",
      "Testing Accuracy: 0.26398\n",
      "Iter 30, Loss= 2.309175, Training Accuracy= 0.46875\n",
      "Iter 40, Loss= 1.399230, Training Accuracy= 0.64062\n",
      "Iter 50, Loss= 1.098898, Training Accuracy= 0.60938\n",
      "Testing Accuracy: 0.42523\n",
      "Iter 60, Loss= 0.835021, Training Accuracy= 0.71875\n",
      "Iter 70, Loss= 0.585084, Training Accuracy= 0.79688\n",
      "Testing Accuracy: 0.48505\n",
      "Iter 80, Loss= 0.302056, Training Accuracy= 0.89062\n",
      "Iter 90, Loss= 0.531305, Training Accuracy= 0.84375\n",
      "Iter 100, Loss= 0.213549, Training Accuracy= 0.90625\n",
      "Testing Accuracy: 0.52666\n",
      "Iter 110, Loss= 0.278090, Training Accuracy= 0.89062\n",
      "Iter 120, Loss= 0.187375, Training Accuracy= 0.93750\n",
      "Testing Accuracy: 0.59818\n",
      "Iter 130, Loss= 0.178983, Training Accuracy= 0.93750\n",
      "Iter 140, Loss= 0.337668, Training Accuracy= 0.89062\n",
      "Iter 150, Loss= 0.083858, Training Accuracy= 0.96875\n",
      "Testing Accuracy: 0.60728\n",
      "Iter 160, Loss= 0.057206, Training Accuracy= 0.98438\n",
      "Iter 170, Loss= 0.106542, Training Accuracy= 0.93750\n",
      "Testing Accuracy: 0.64759\n",
      "Iter 180, Loss= 0.023992, Training Accuracy= 0.98438\n",
      "Iter 190, Loss= 0.131537, Training Accuracy= 0.92188\n",
      "Iter 200, Loss= 0.074924, Training Accuracy= 0.96875\n",
      "Testing Accuracy: 0.65020\n",
      "Iter 210, Loss= 0.145620, Training Accuracy= 0.92188\n",
      "Iter 220, Loss= 0.159327, Training Accuracy= 0.96875\n",
      "Testing Accuracy: 0.70741\n",
      "Iter 230, Loss= 0.074345, Training Accuracy= 0.96875\n",
      "Iter 240, Loss= 0.084021, Training Accuracy= 0.96875\n",
      "Iter 250, Loss= 0.076067, Training Accuracy= 0.98438\n",
      "Testing Accuracy: 0.72562\n",
      "Iter 260, Loss= 0.141463, Training Accuracy= 0.95312\n",
      "Iter 270, Loss= 0.060777, Training Accuracy= 0.96875\n",
      "Testing Accuracy: 0.68661\n",
      "Iter 280, Loss= 0.007774, Training Accuracy= 1.00000\n",
      "Iter 290, Loss= 0.074651, Training Accuracy= 0.98438\n",
      "Iter 300, Loss= 0.095517, Training Accuracy= 0.96875\n",
      "Testing Accuracy: 0.74902\n",
      "Iter 310, Loss= 0.109297, Training Accuracy= 0.95312\n",
      "Iter 320, Loss= 0.141551, Training Accuracy= 0.96875\n",
      "Testing Accuracy: 0.73342\n",
      "Iter 330, Loss= 0.007403, Training Accuracy= 1.00000\n",
      "Iter 340, Loss= 0.012068, Training Accuracy= 1.00000\n",
      "Iter 350, Loss= 0.012679, Training Accuracy= 1.00000\n",
      "Testing Accuracy: 0.74252\n",
      "Iter 360, Loss= 0.022120, Training Accuracy= 0.98438\n",
      "Iter 370, Loss= 0.023611, Training Accuracy= 0.98438\n",
      "Testing Accuracy: 0.76853\n",
      "Iter 380, Loss= 0.015421, Training Accuracy= 1.00000\n",
      "Iter 390, Loss= 0.003141, Training Accuracy= 1.00000\n",
      "Iter 400, Loss= 0.010128, Training Accuracy= 1.00000\n",
      "Testing Accuracy: 0.76723\n",
      "Iter 410, Loss= 0.003865, Training Accuracy= 1.00000\n",
      "Iter 420, Loss= 0.082797, Training Accuracy= 0.98438\n",
      "Testing Accuracy: 0.77633\n",
      "Iter 430, Loss= 0.019252, Training Accuracy= 1.00000\n",
      "Iter 440, Loss= 0.063497, Training Accuracy= 0.98438\n",
      "Iter 450, Loss= 0.021946, Training Accuracy= 0.98438\n",
      "Testing Accuracy: 0.79584\n",
      "Iter 460, Loss= 0.015878, Training Accuracy= 1.00000\n",
      "Iter 470, Loss= 0.022494, Training Accuracy= 0.98438\n",
      "Testing Accuracy: 0.77763\n",
      "Iter 480, Loss= 0.038631, Training Accuracy= 0.98438\n",
      "Iter 490, Loss= 0.011500, Training Accuracy= 1.00000\n",
      "Iter 500, Loss= 0.003241, Training Accuracy= 1.00000\n",
      "Testing Accuracy: 0.80624\n",
      "Iter 510, Loss= 0.009693, Training Accuracy= 1.00000\n",
      "Iter 520, Loss= 0.013740, Training Accuracy= 0.98438\n",
      "Testing Accuracy: 0.81014\n",
      "Iter 530, Loss= 0.077340, Training Accuracy= 0.96875\n",
      "Iter 540, Loss= 0.064817, Training Accuracy= 0.96875\n",
      "Iter 550, Loss= 0.000791, Training Accuracy= 1.00000\n",
      "Testing Accuracy: 0.82055\n",
      "Iter 560, Loss= 0.000615, Training Accuracy= 1.00000\n",
      "Iter 570, Loss= 0.003378, Training Accuracy= 1.00000\n",
      "Testing Accuracy: 0.80494\n",
      "Iter 580, Loss= 0.003208, Training Accuracy= 1.00000\n",
      "Iter 590, Loss= 0.000956, Training Accuracy= 1.00000\n",
      "Iter 600, Loss= 0.047354, Training Accuracy= 0.98438\n",
      "Testing Accuracy: 0.80754\n",
      "Iter 610, Loss= 0.030064, Training Accuracy= 0.98438\n",
      "Iter 620, Loss= 0.010508, Training Accuracy= 1.00000\n",
      "Testing Accuracy: 0.84265\n",
      "Iter 630, Loss= 0.005521, Training Accuracy= 1.00000\n",
      "Iter 640, Loss= 0.013430, Training Accuracy= 0.98438\n",
      "Iter 650, Loss= 0.061687, Training Accuracy= 0.98438\n",
      "Testing Accuracy: 0.83095\n",
      "Iter 660, Loss= 0.080186, Training Accuracy= 0.98438\n",
      "Iter 670, Loss= 0.003233, Training Accuracy= 1.00000\n",
      "Testing Accuracy: 0.83485\n",
      "Iter 680, Loss= 0.003489, Training Accuracy= 1.00000\n",
      "Iter 690, Loss= 0.016394, Training Accuracy= 1.00000\n",
      "Iter 700, Loss= 0.007065, Training Accuracy= 1.00000\n",
      "Testing Accuracy: 0.83875\n",
      "Iter 710, Loss= 0.000611, Training Accuracy= 1.00000\n",
      "Iter 720, Loss= 0.012035, Training Accuracy= 1.00000\n",
      "Testing Accuracy: 0.82185\n",
      "Iter 730, Loss= 0.033775, Training Accuracy= 0.98438\n",
      "Iter 740, Loss= 0.002134, Training Accuracy= 1.00000\n",
      "Iter 750, Loss= 0.028904, Training Accuracy= 0.98438\n",
      "Testing Accuracy: 0.84135\n",
      "Iter 760, Loss= 0.035667, Training Accuracy= 0.98438\n",
      "Iter 770, Loss= 0.002345, Training Accuracy= 1.00000\n",
      "Testing Accuracy: 0.83095\n",
      "Iter 780, Loss= 0.001396, Training Accuracy= 1.00000\n",
      "Iter 790, Loss= 0.000800, Training Accuracy= 1.00000\n",
      "Iter 800, Loss= 0.000094, Training Accuracy= 1.00000\n",
      "Testing Accuracy: 0.84655\n",
      "Iter 810, Loss= 0.004583, Training Accuracy= 1.00000\n",
      "Iter 820, Loss= 0.007198, Training Accuracy= 1.00000\n",
      "Testing Accuracy: 0.84655\n",
      "Iter 830, Loss= 0.001217, Training Accuracy= 1.00000\n",
      "Iter 840, Loss= 0.004314, Training Accuracy= 1.00000\n",
      "Iter 850, Loss= 0.000439, Training Accuracy= 1.00000\n",
      "Testing Accuracy: 0.84915\n",
      "Iter 860, Loss= 0.011309, Training Accuracy= 1.00000\n",
      "Iter 870, Loss= 0.003532, Training Accuracy= 1.00000\n",
      "Testing Accuracy: 0.84005\n",
      "Iter 880, Loss= 0.047963, Training Accuracy= 0.96875\n",
      "Iter 890, Loss= 0.000327, Training Accuracy= 1.00000\n",
      "Iter 900, Loss= 0.060451, Training Accuracy= 0.98438\n",
      "Testing Accuracy: 0.85566\n",
      "Iter 910, Loss= 0.006034, Training Accuracy= 1.00000\n",
      "Iter 920, Loss= 0.001852, Training Accuracy= 1.00000\n",
      "Testing Accuracy: 0.84915\n",
      "Iter 930, Loss= 0.002915, Training Accuracy= 1.00000\n",
      "Iter 940, Loss= 0.005524, Training Accuracy= 1.00000\n",
      "Iter 950, Loss= 0.000503, Training Accuracy= 1.00000\n",
      "Testing Accuracy: 0.84395\n",
      "Iter 960, Loss= 0.011921, Training Accuracy= 0.98438\n",
      "Iter 970, Loss= 0.000693, Training Accuracy= 1.00000\n",
      "Testing Accuracy: 0.85306\n",
      "Iter 980, Loss= 0.003479, Training Accuracy= 1.00000\n",
      "Iter 990, Loss= 0.000426, Training Accuracy= 1.00000\n",
      "Iter 1000, Loss= 0.006828, Training Accuracy= 1.00000\n",
      "Testing Accuracy: 0.82965\n",
      "Iter 1010, Loss= 0.001549, Training Accuracy= 1.00000\n",
      "Iter 1020, Loss= 0.004656, Training Accuracy= 1.00000\n",
      "Testing Accuracy: 0.84005\n",
      "Iter 1030, Loss= 0.000081, Training Accuracy= 1.00000\n",
      "Iter 1040, Loss= 0.002271, Training Accuracy= 1.00000\n",
      "Iter 1050, Loss= 0.058115, Training Accuracy= 0.98438\n",
      "Testing Accuracy: 0.84395\n",
      "Iter 1060, Loss= 0.001441, Training Accuracy= 1.00000\n",
      "Iter 1070, Loss= 0.000340, Training Accuracy= 1.00000\n",
      "Testing Accuracy: 0.83615\n",
      "Iter 1080, Loss= 0.000856, Training Accuracy= 1.00000\n",
      "Iter 1090, Loss= 0.042328, Training Accuracy= 0.98438\n",
      "Iter 1100, Loss= 0.059653, Training Accuracy= 0.98438\n",
      "Testing Accuracy: 0.86216\n",
      "Iter 1110, Loss= 0.000938, Training Accuracy= 1.00000\n",
      "Iter 1120, Loss= 0.000354, Training Accuracy= 1.00000\n",
      "Testing Accuracy: 0.87516\n",
      "Iter 1130, Loss= 0.013594, Training Accuracy= 0.98438\n",
      "Iter 1140, Loss= 0.000284, Training Accuracy= 1.00000\n"
     ]
    },
    {
     "name": "stdout",
     "output_type": "stream",
     "text": [
      "Iter 1150, Loss= 0.001376, Training Accuracy= 1.00000\n",
      "Testing Accuracy: 0.86346\n",
      "Iter 1160, Loss= 0.002089, Training Accuracy= 1.00000\n",
      "Iter 1170, Loss= 0.034968, Training Accuracy= 0.96875\n",
      "Testing Accuracy: 0.87386\n",
      "Iter 1180, Loss= 0.000141, Training Accuracy= 1.00000\n",
      "Iter 1190, Loss= 0.002880, Training Accuracy= 1.00000\n",
      "Iter 1200, Loss= 0.004691, Training Accuracy= 1.00000\n",
      "Testing Accuracy: 0.88166\n"
     ]
    }
   ],
   "source": [
    "tf.reset_default_graph()\n",
    "sess = tf.Session()# telling the session to initialize the variables\n",
    "\n",
    "\n",
    "# input dimen and output dimen\n",
    "x = tf.placeholder(\"float\", [None, n_input,n_input, 1], name=\"x\")\n",
    "tf.summary.image('input', x, 10)\n",
    "\n",
    "y = tf.placeholder(\"float\", [None, n_classes], name = \"labels\")\n",
    "\n",
    "# storing the graph in the variable pred\n",
    "pred = conv_net(x)\n",
    "\n",
    "# getting output for prediction\n",
    "yOut = tf.identity(pred, name=\"myOutput\")\n",
    "\n",
    "# cost fucntion for the graph\n",
    "with tf.name_scope(\"entropy\"):\n",
    "    cost = tf.reduce_mean(tf.nn.softmax_cross_entropy_with_logits(logits=pred, labels=y))\n",
    "    tf.summary.scalar(\"entropy\", cost)\n",
    "\n",
    "# optiizr for the network\n",
    "with tf.name_scope(\"train\"):\n",
    "    optimizer = tf.train.AdamOptimizer(learning_rate=learning_rate).minimize(cost)\n",
    "\n",
    "with tf.name_scope(\"accuracy\"):\n",
    "    #Here you check whether the index of the maximum value of the predicted image is equal to the actual labelled \n",
    "    #image. and both will be a column vector.\n",
    "    correct_prediction = tf.equal(tf.argmax(pred, 1), tf.argmax(y, 1))\n",
    "\n",
    "    #calculate accuracy across all the given images and average them out. \n",
    "    accuracy = tf.reduce_mean(tf.cast(correct_prediction, tf.float32))\n",
    "\n",
    "    tf.summary.scalar(\"accuracy\", accuracy)\n",
    "    \n",
    "# Initializing the variables\n",
    "init = tf.global_variables_initializer()\n",
    "sess.run(init) \n",
    "\n",
    "# storing the values in lists\n",
    "train_loss = []\n",
    "test_loss = []\n",
    "train_accuracy = []\n",
    "test_accuracy = []\n",
    "\n",
    "summ = tf.summary.merge_all()\n",
    "summary_writer = tf.summary.FileWriter('./Output')\n",
    "summary_writer.add_graph(sess.graph)\n",
    "\n",
    "for i in range(1,training_iters):\n",
    "    for batch in range(len(train_X)//batch_size):\n",
    "        batch_x = train_X[batch*batch_size:min((batch+1)*batch_size,len(train_X))]\n",
    "        batch_y = train_y[batch*batch_size:min((batch+1)*batch_size,len(train_y))]    \n",
    "        # Run optimization op (backprop).\n",
    "        # Calculate batch loss and accuracy\n",
    "        opt = sess.run(optimizer, feed_dict={x: batch_x, y: batch_y})\n",
    "        loss, acc = sess.run([cost, accuracy], feed_dict={x: batch_x, y: batch_y})\n",
    "\n",
    "        if (i % 5 == 0)&(batch == 0):\n",
    "            s = sess.run(summ, feed_dict={x: batch_x, y: batch_y})\n",
    "            summary_writer.add_summary(s, i)\n",
    "    if i % 10 == 0:\n",
    "        print(\"Iter \" + str(i) + \", Loss= \" + \\\n",
    "                      \"{:.6f}\".format(loss) + \", Training Accuracy= \" + \\\n",
    "                      \"{:.5f}\".format(acc))\n",
    "#         print(\"Optimization Finished!\")\n",
    "\n",
    "    # Calculate accuracy for all test images\n",
    "    train_loss.append(loss)\n",
    "    train_accuracy.append(acc)\n",
    "    test_acc,valid_loss = sess.run([accuracy,cost], feed_dict={x: test_X,y : test_y})\n",
    "    test_loss.append(valid_loss)\n",
    "    test_accuracy.append(test_acc)\n",
    "    if i % 25 == 0:\n",
    "\n",
    "        print(\"Testing Accuracy:\",\"{:.5f}\".format(test_acc))\n",
    "summary_writer.close()"
   ]
  },
  {
   "cell_type": "code",
   "execution_count": 12,
   "metadata": {},
   "outputs": [
    {
     "data": {
      "image/png": "[encoded data removed]",
      "text/plain": [
       "<Figure size 432x288 with 1 Axes>"
      ]
     },
     "metadata": {
      "needs_background": "light"
     },
     "output_type": "display_data"
    },
    {
     "data": {
      "text/plain": [
       "<Figure size 432x288 with 0 Axes>"
      ]
     },
     "metadata": {},
     "output_type": "display_data"
    }
   ],
   "source": [
    "plt.plot(range(len(train_loss)), train_accuracy, 'b', label='Training Accuracy')\n",
    "plt.plot(range(len(train_loss)), test_accuracy, 'r', label='Test Accuracy')\n",
    "plt.title('Training and Test Accuracy')\n",
    "plt.xlabel('Epochs ',fontsize=16)\n",
    "plt.ylabel('Loss',fontsize=16)\n",
    "plt.legend()\n",
    "plt.figure()\n",
    "plt.show()"
   ]
  },
  {
   "cell_type": "code",
   "execution_count": 13,
   "metadata": {
    "scrolled": true
   },
   "outputs": [
    {
     "data": {
      "image/png": "[encoded data removed]",
      "text/plain": [
       "<Figure size 432x288 with 1 Axes>"
      ]
     },
     "metadata": {
      "needs_background": "light"
     },
     "output_type": "display_data"
    },
    {
     "data": {
      "text/plain": [
       "<Figure size 432x288 with 0 Axes>"
      ]
     },
     "metadata": {},
     "output_type": "display_data"
    }
   ],
   "source": [
    "plt.plot(range(len(train_loss)), train_loss, 'b', label='Training loss')\n",
    "plt.plot(range(len(train_loss)), test_loss, 'r', label='Test loss')\n",
    "plt.title('Training and Test loss')\n",
    "plt.xlabel('Epochs ',fontsize=16)\n",
    "plt.ylabel('Loss',fontsize=16)\n",
    "plt.legend()\n",
    "plt.figure()\n",
    "plt.show()"
   ]
  },
  {
   "cell_type": "code",
   "execution_count": 14,
   "metadata": {},
   "outputs": [
    {
     "name": "stdout",
     "output_type": "stream",
     "text": [
      "Model saved in path: ./Models/model522.ckpt\n"
     ]
    }
   ],
   "source": [
    "# saving the graph for warm training \n",
    "saver = tf.train.Saver()\n",
    "\n",
    "save_path = saver.save(sess, \"./Models/model\"+str(time.localtime().tm_hour)+str(time.localtime().tm_min)+\".ckpt\")\n",
    "print(\"Model saved in path: %s\" % save_path)"
   ]
  },
  {
   "cell_type": "code",
   "execution_count": 15,
   "metadata": {},
   "outputs": [
    {
     "name": "stdout",
     "output_type": "stream",
     "text": [
      "WARNING:tensorflow:From /home/abdullah/.local/lib/python3.6/site-packages/tensorflow/python/saved_model/signature_def_utils_impl.py:205: build_tensor_info (from tensorflow.python.saved_model.utils_impl) is deprecated and will be removed in a future version.\n",
      "Instructions for updating:\n",
      "This function will only be available through the v1 compatibility library as tf.compat.v1.saved_model.utils.build_tensor_info or tf.compat.v1.saved_model.build_tensor_info.\n",
      "INFO:tensorflow:No assets to save.\n",
      "INFO:tensorflow:No assets to write.\n",
      "INFO:tensorflow:SavedModel written to: ./ModelSaver/saved_model.pb\n"
     ]
    }
   ],
   "source": [
    "export_dir = './ModelSaver/'\n",
    "builder = tf.saved_model.builder.SavedModelBuilder(export_dir)\n",
    "builder.add_meta_graph_and_variables(sess, [\"tag\"], signature_def_map= {\n",
    "        \"model\": tf.saved_model.signature_def_utils.predict_signature_def(\n",
    "            inputs= {\"x\": x},\n",
    "            outputs= {\"myOutput\": yOut})\n",
    "        })\n",
    "builder.save()\n",
    "sess.close()"
   ]
  },
  {
   "cell_type": "code",
   "execution_count": 17,
   "metadata": {},
   "outputs": [
    {
     "name": "stdout",
     "output_type": "stream",
     "text": [
      "INFO:tensorflow:Restoring parameters from ./Models/model2243.ckpt\n",
      "INFO:tensorflow:Assets added to graph.\n",
      "INFO:tensorflow:No assets to write.\n",
      "INFO:tensorflow:SavedModel written to: ./CompleteModelSave/saved_model.pb\n"
     ]
    }
   ],
   "source": [
    "# restoring graph\n",
    "\n",
    "# saver = tf.train.Saver()\n",
    "\n",
    "# saver.restore(sess, \"./Models/model2243.ckpt\")\n",
    "# export_dir = \"./CompleteModelSave/\"\n",
    "# tf.saved_model.simple_save(sess,\n",
    "#             export_dir,\n",
    "#             inputs={\"x\": x},\n",
    "#             outputs={\"out\": y})"
   ]
  },
  {
   "cell_type": "code",
   "execution_count": 18,
   "metadata": {},
   "outputs": [
    {
     "name": "stdout",
     "output_type": "stream",
     "text": [
      "WARNING:tensorflow:From <ipython-input-18-1b893c93c614>:5: simple_save (from tensorflow.python.saved_model.simple_save) is deprecated and will be removed in a future version.\n",
      "Instructions for updating:\n",
      "This function will only be available through the v1 compatibility library as tf.compat.v1.saved_model.simple_save.\n",
      "WARNING:tensorflow:From /home/abdullah/.local/lib/python3.6/site-packages/tensorflow/python/saved_model/signature_def_utils_impl.py:205: build_tensor_info (from tensorflow.python.saved_model.utils_impl) is deprecated and will be removed in a future version.\n",
      "Instructions for updating:\n",
      "This function will only be available through the v1 compatibility library as tf.compat.v1.saved_model.utils.build_tensor_info or tf.compat.v1.saved_model.build_tensor_info.\n",
      "INFO:tensorflow:Assets added to graph.\n",
      "INFO:tensorflow:No assets to write.\n",
      "INFO:tensorflow:SavedModel written to: ./CompleteModelSave/saved_model.pb\n"
     ]
    }
   ],
   "source": [
    "# export_dir = \"./CompleteModelSave/\"\n",
    "# tf.saved_model.simple_save(sess,\n",
    "#             export_dir,\n",
    "#             inputs={\"x\": x},\n",
    "#             outputs={\"myOutput\": y})"
   ]
  },
  {
   "cell_type": "code",
   "execution_count": 55,
   "metadata": {},
   "outputs": [
    {
     "name": "stdout",
     "output_type": "stream",
     "text": [
      "[-1.1111108 -1.1111112 -1.1111112 -1.1111112 -1.1111112 -0.\n",
      " -1.1111112 -1.1111112 -1.1111112 -0.        -1.1111112 -1.1111112\n",
      " -1.1111112 -1.1111112 -1.1111112 -1.1111112 -1.1111112 -0.\n",
      " -1.1111112 -1.1111112 -1.1111112 -1.1111112 -0.        -0.\n",
      "  1.1111112 -1.1109841]\n"
     ]
    },
    {
     "data": {
      "image/png": "[encoded data removed]",
      "text/plain": [
       "<Figure size 432x288 with 1 Axes>"
      ]
     },
     "metadata": {
      "needs_background": "light"
     },
     "output_type": "display_data"
    }
   ],
   "source": [
    "yyy = sess.run(yOut,feed_dict={x: test_X})\n",
    "print((yyy[0]))\n",
    "plt.imshow(test_X[0].reshape(28,28))\n",
    "plt.show()"
   ]
  },
  {
   "cell_type": "code",
   "execution_count": 17,
   "metadata": {},
   "outputs": [],
   "source": []
  },
  {
   "cell_type": "code",
   "execution_count": null,
   "metadata": {},
   "outputs": [],
   "source": []
  }
 ],
 "metadata": {
  "kernelspec": {
   "display_name": "Python 3",
   "language": "python",
   "name": "python3"
  },
  "language_info": {
   "codemirror_mode": {
    "name": "ipython",
    "version": 3
   },
   "file_extension": ".py",
   "mimetype": "text/x-python",
   "name": "python",
   "nbconvert_exporter": "python",
   "pygments_lexer": "ipython3",
   "version": "3.6.7"
  }
 },
 "nbformat": 4,
 "nbformat_minor": 2
}
