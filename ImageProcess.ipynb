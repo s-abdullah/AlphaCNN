{
 "cells": [
  {
   "cell_type": "code",
   "execution_count": 12,
   "metadata": {},
   "outputs": [],
   "source": [
    "import cv2\n",
    "import imageio as ig\n",
    "import numpy as np\n",
    "import time\n",
    "import random\n",
    "import string\n",
    "import os\n",
    "import tensorflow as tf\n",
    "import matplotlib.pyplot as plt\n",
    "%matplotlib inline\n",
    "os.environ[\"CUDA_VISIBLE_DEVICES\"]=\"0\" #for training on gpu"
   ]
  },
  {
   "cell_type": "code",
   "execution_count": 13,
   "metadata": {},
   "outputs": [],
   "source": [
    "# global variables\n",
    "\n",
    "xLim = 25\n",
    "yLim = 25\n",
    "\n",
    "# bounds for cscaling the data\n",
    "lower = 1\n",
    "upper = 2\n",
    "\n",
    "# dimensions fo input image for network\n",
    "dimension = 28\n",
    "\n",
    "# minimun to use for the scaling of the data\n",
    "minn = 0\n",
    "# line width\n",
    "l = 1\n",
    "\n",
    "norm = 255.0\n",
    "\n",
    "# anser\n",
    "ans = list(string.ascii_uppercase)\n",
    "\n",
    "# Here we are defining range of bluecolor in HSV \n",
    "lower_blue = np.array([26,15,72]) \n",
    "upper_blue = np.array([179,255,255]) \n",
    "\n",
    "# path to model\n",
    "save_path = \"./ModelSaver\""
   ]
  },
  {
   "cell_type": "code",
   "execution_count": 57,
   "metadata": {},
   "outputs": [],
   "source": [
    "# function that takes in image and color to mask and dimen of output (asssumed square) \n",
    "# and outputs network ready image,\n",
    "def getReady(frame, lower, upper, dimen):\n",
    "    thresh = 150\n",
    "    kernel = np.ones((3,3),np.uint8)\n",
    "    \n",
    "    hsv = cv2.cvtColor(frame, cv2.COLOR_BGR2HSV) \n",
    "    mask = cv2.inRange(hsv, lower, upper) \n",
    "\n",
    "    # The bitwise and of the frame and mask is done so  \n",
    "    # that only the blue coloured objects are highlighted  \n",
    "    # and stored in res \n",
    "    res = cv2.bitwise_and(frame,frame, mask= mask)\n",
    "    gray = cv2.cvtColor(res, cv2.COLOR_BGR2GRAY) \n",
    "    inv = cv2.bitwise_not(mask)\n",
    "\n",
    "    im_bw = cv2.threshold((gray+inv) , thresh, 255, cv2.THRESH_BINARY_INV|cv2.THRESH_OTSU)[1]\n",
    "\n",
    "    im_bw = cv2.erode(im_bw,kernel,iterations = 1)\n",
    "\n",
    "    kernel = np.ones((2,2),np.uint8)\n",
    "    im_bw = cv2.dilate(im_bw,kernel,iterations = 1)\n",
    "\n",
    "    im_bw = cv2.resize(im_bw, (dimen,dimen), interpolation=cv2.INTER_NEAREST)\n",
    "#     im_bw = cv2.threshold((im_bw) , thresh, 255, cv2.THRESH_BINARY|cv2.THRESH_OTSU)[1]\n",
    "#     im_bw = cv2.morphologyEx(im_bw, cv2.MORPH_OPEN, kernel)\n",
    "#     im_bw = cv2.morphologyEx(im_bw, cv2.MORPH_CLOSE, kernel)\n",
    "\n",
    "    return im_bw\n"
   ]
  },
  {
   "cell_type": "code",
   "execution_count": 39,
   "metadata": {},
   "outputs": [],
   "source": [
    "# prediction\n",
    "\n",
    "def getPrediction(session, image, answer, dimen):\n",
    "    print(\"getting prediction\")\n",
    "    theImg = image.reshape(-1, dimen, dimen, 1)\n",
    "#     tf.reset_default_graph()\n",
    "    # loading model\n",
    "#     with tf.Session(graph=tf.Graph()) as sess:\n",
    "#         tf.saved_model.loader.load(sess,  [\"tag\"], model)\n",
    "#         graph = tf.get_default_graph()\n",
    "\n",
    "    x = graph.get_tensor_by_name(\"x:0\")\n",
    "    myOut = graph.get_tensor_by_name(\"myOutput:0\")\n",
    "\n",
    "\n",
    "    yOut = session.run(myOut, feed_dict={x:theImg})\n",
    "    \n",
    "\n",
    "    ind = np.where(yOut[0] == np.amax(yOut[0]))\n",
    "    print(np.array(answer)[np.array(ind[0])])\n",
    "    return answer[int(ind[0][0])]"
   ]
  },
  {
   "cell_type": "code",
   "execution_count": 40,
   "metadata": {},
   "outputs": [
    {
     "name": "stdout",
     "output_type": "stream",
     "text": [
      "INFO:tensorflow:Restoring parameters from ./ModelSaver/variables/variables\n",
      "Model Loaded\n"
     ]
    }
   ],
   "source": [
    "# loading model\n",
    "tf.reset_default_graph()\n",
    "graph = tf.get_default_graph()\n",
    "sess = tf.Session()\n",
    "tf.saved_model.loader.load(sess,  [\"tag\"], save_path)\n",
    "graph = tf.get_default_graph()\n",
    "print(\"Model Loaded\")\n"
   ]
  },
  {
   "cell_type": "code",
   "execution_count": 61,
   "metadata": {},
   "outputs": [],
   "source": [
    "img = cv2.imread('/home/abdullah/Desktop/Abdullah/LUMS/Senior/Sproj/ImgPreProcessing/Images/image10.JPG',1)\n",
    "final = cv2.cvtColor(img, cv2.COLOR_BGR2GRAY)"
   ]
  },
  {
   "cell_type": "code",
   "execution_count": 62,
   "metadata": {},
   "outputs": [],
   "source": [
    "width, height = final.shape\n",
    "ret,thresh = cv2.threshold(final,127,255,0)\n",
    "contours,hierarchy = cv2.findContours(thresh, 1, 2)"
   ]
  },
  {
   "cell_type": "code",
   "execution_count": 63,
   "metadata": {
    "scrolled": false
   },
   "outputs": [
    {
     "name": "stdout",
     "output_type": "stream",
     "text": [
      "getting prediction\n",
      "['Z']\n",
      "getting prediction\n",
      "['X']\n",
      "getting prediction\n",
      "['Y']\n",
      "getting prediction\n",
      "['Z']\n",
      "getting prediction\n",
      "['T']\n",
      "getting prediction\n",
      "['U']\n",
      "getting prediction\n",
      "['H']\n",
      "getting prediction\n",
      "['V']\n",
      "getting prediction\n",
      "['W']\n",
      "getting prediction\n",
      "['O']\n",
      "getting prediction\n",
      "['W']\n",
      "getting prediction\n",
      "['M']\n",
      "getting prediction\n",
      "['V']\n",
      "getting prediction\n",
      "['U']\n",
      "getting prediction\n",
      "['I']\n",
      "getting prediction\n",
      "['K']\n",
      "getting prediction\n",
      "['J']\n",
      "getting prediction\n",
      "['L']\n",
      "getting prediction\n",
      "['Z']\n",
      "getting prediction\n",
      "['G']\n",
      "getting prediction\n",
      "['S']\n",
      "getting prediction\n",
      "['F']\n",
      "getting prediction\n",
      "['C']\n",
      "getting prediction\n",
      "['C']\n",
      "getting prediction\n",
      "['S']\n",
      "getting prediction\n",
      "['R']\n"
     ]
    },
    {
     "data": {
      "text/plain": [
       "True"
      ]
     },
     "execution_count": 63,
     "metadata": {},
     "output_type": "execute_result"
    }
   ],
   "source": [
    "# loop over the contours\n",
    "for c in contours:\n",
    "    \n",
    "    x,y,w,h = cv2.boundingRect(c)\n",
    "    \n",
    "    # converting and then scaling between lower an upper\n",
    "    trX = ((upper - lower)/(width - minn))*(width-x) + lower\n",
    "    trY = ((upper - lower)/(height - minn))*(height-y) + lower\n",
    "    \n",
    "    # getting random color\n",
    "    color = (random.randint(0,255), random.randint(10,255), random.randint(0,255))\n",
    "    \n",
    "    # see if big enough for it to be alphabet\n",
    "    if ((w >= xLim*trX)&(h >= yLim*trY)):\n",
    "        \n",
    "        toNet = getReady(img[y:y+h, x:x+w], lower_blue, upper_blue, dimension)\n",
    "        \n",
    "#         cv2.imshow(\"Input\", toNet)\n",
    "        \n",
    "        pred = getPrediction(sess, (toNet/norm), ans, dimension)\n",
    "        \n",
    "        img = cv2.rectangle(img,(x,y),(x+w,y+h),(0, 0, 255),l) \n",
    "        img = cv2.putText(img, pred, (int(x+w),int(y)), cv2.FONT_HERSHEY_COMPLEX, 0.5, (0,255,0), 1)\n",
    "        \n",
    "#         cv2.imshow(\"Image\", img)      \n",
    "\n",
    "#         key = cv2.waitKey(0)\n",
    "#         if key == 27:#if ESC is pressed, exit loop\n",
    "#             cv2.destroyAllWindows()\n",
    "#             break\n",
    "#         elif key == 82:\n",
    "#             cv2.destroyAllWindows()\n",
    "            \n",
    "#         break\n",
    "cv2.imshow(\"Image\", img)  \n",
    "cv2.waitKey(0)\n",
    "cv2.destroyAllWindows()\n",
    "cv2.imwrite(\"realTest.jpg\", img)\n"
   ]
  },
  {
   "cell_type": "code",
   "execution_count": 125,
   "metadata": {},
   "outputs": [],
   "source": [
    "sess.close()"
   ]
  }
 ],
 "metadata": {
  "kernelspec": {
   "display_name": "Python 3",
   "language": "python",
   "name": "python3"
  },
  "language_info": {
   "codemirror_mode": {
    "name": "ipython",
    "version": 3
   },
   "file_extension": ".py",
   "mimetype": "text/x-python",
   "name": "python",
   "nbconvert_exporter": "python",
   "pygments_lexer": "ipython3",
   "version": "3.6.7"
  }
 },
 "nbformat": 4,
 "nbformat_minor": 2
}
